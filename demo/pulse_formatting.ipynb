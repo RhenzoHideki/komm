{
 "cells": [
  {
   "cell_type": "markdown",
   "metadata": {},
   "source": [
    "# Sinc pulse (zero ISI)"
   ]
  },
  {
   "cell_type": "code",
   "execution_count": 7,
   "metadata": {},
   "outputs": [
    {
     "data": {
      "application/vnd.jupyter.widget-view+json": {
       "model_id": "12012896aefa43eea49b294b430cf5ab",
       "version_major": 2,
       "version_minor": 0
      },
      "text/plain": [
       "interactive(children=(Checkbox(value=False, description='show_individual'), Checkbox(value=False, description=…"
      ]
     },
     "metadata": {},
     "output_type": "display_data"
    }
   ],
   "source": [
    "%matplotlib inline\n",
    "\n",
    "import numpy as np\n",
    "import matplotlib.pylab as plt\n",
    "import ipywidgets\n",
    "import komm\n",
    "\n",
    "def sinc_demo(show_individual, show_signal):\n",
    "    info = np.array([1, -1, 1, 1, -1, -1, 1])\n",
    "    pulse = komm.SincPulse(length_in_symbols=20)\n",
    "    t0, t1 = pulse.interval\n",
    "    tx_filter = komm.TransmitFilter(pulse, samples_per_symbol=32)\n",
    "    signal = tx_filter(info)\n",
    "    t = np.arange(t0, t1 + len(info) - 1, step=1/tx_filter.samples_per_symbol)\n",
    "\n",
    "    _, ax = plt.subplots(figsize=(16, 10))\n",
    "    if show_individual:\n",
    "        for k, a in enumerate(info):\n",
    "            ax.plot(t, a*pulse.impulse_response(t - k), 'k--')\n",
    "    if show_signal:\n",
    "        ax.plot(t, signal, 'b', linewidth=3)\n",
    "    ax.stem(info, linefmt='r', markerfmt='ro')\n",
    "    ax.set_xlabel('$t$')\n",
    "    ax.set_ylabel('$s(t)$')\n",
    "    ax.set_xticks(np.arange(-2.0, 11.0))\n",
    "    ax.set_xlim((-2.0, 10.0))\n",
    "    ax.set_ylim((-1.75, 1.75))\n",
    "    ax.grid()\n",
    "    plt.show()\n",
    "\n",
    "ipywidgets.interact(sinc_demo, show_individual=False, show_signal=False);"
   ]
  }
 ],
 "metadata": {
  "kernelspec": {
   "display_name": "Python 3",
   "language": "python",
   "name": "python3"
  },
  "language_info": {
   "codemirror_mode": {
    "name": "ipython",
    "version": 3
   },
   "file_extension": ".py",
   "mimetype": "text/x-python",
   "name": "python",
   "nbconvert_exporter": "python",
   "pygments_lexer": "ipython3",
   "version": "3.7.0"
  }
 },
 "nbformat": 4,
 "nbformat_minor": 2
}
